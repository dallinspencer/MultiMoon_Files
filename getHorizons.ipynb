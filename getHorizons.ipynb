{
 "cells": [
  {
   "cell_type": "code",
   "execution_count": 1,
   "metadata": {
    "scrolled": false
   },
   "outputs": [
    {
     "name": "stdout",
     "output_type": "stream",
     "text": [
      "gzip was not found on your system! You should solve this issue for astroquery.eso to be at its best!\n",
      "On POSIX system: make sure gzip is installed and in your path!On Windows: same for 7-zip (http://www.7-zip.org)!\n"
     ]
    }
   ],
   "source": [
    "from astroquery.jplhorizons import Horizons\n",
    "import numpy as np\n",
    "import pandas as pd\n",
    "from astropy.time import Time\n",
    "import time\n",
    "\n",
    "def makeHorFile(objectName):\n",
    "    \"\"\"This function takes a name of a solar system body(a KBO), and creates a csv file of the body's ephemerides\"\"\"\n",
    "    starttime = time.time()\n",
    "    \n",
    "    ourKBO = Horizons(id=objectName,location=399,epochs = {'start':'1950-01-01','stop':'2020-01-28','step':'1d'})\n",
    "    ephKBO = ourKBO.ephemerides()['RA','DEC','datetime_jd']\n",
    "    vecKBO = ourKBO.vectors()['lighttime']\n",
    "    \n",
    "    jdTime= ephKBO['datetime_jd']\n",
    "    lightTime = vecKBO\n",
    "    kboTime=jdTime-lightTime\n",
    "    \n",
    "    geocentricFile = pd.DataFrame({'geocentricTime':ephKBO['datetime_jd'],'RA':ephKBO['RA'],'DEC':ephKBO['DEC']})\n",
    "    outFile = pd.DataFrame({'kboTIME':kboTime,'RA':ephKBO['RA'],'DEC':ephKBO['DEC']})\n",
    "    \n",
    "    filename1 = objectName+'Data_geoTime.csv'\n",
    "    geocentricFile.to_csv(filename1)\n",
    "    fileName2 = objectName+'Data_KBOtime.csv'\n",
    "    outFile.to_csv(fileName2)\n",
    "    \n",
    "    endtime = time.time()\n",
    "    \n",
    "    runLength = endtime-starttime\n",
    "    print(\"Runtime was: \"+str(runLength)+\" seconds\" )\n",
    "    \n",
    "def geotoKBOtime(objectName):\n",
    "    starttime = time.time()\n",
    "    theFile = objectName+'Data_geoTime.csv'\n",
    "    \n",
    "    oldData = pd.read_csv(theFile)\n",
    "    date = oldData['Dates']\n",
    "    \n",
    "    date1 = date.iloc[0]\n",
    "    date2 = date.iloc[-1]\n",
    "    \n",
    "    jddate1 = Time(date1,format='jd')\n",
    "    jddate2 = Time(date2,format='jd')\n",
    "    \n",
    "    dateList = []\n",
    "    \n",
    "    for i in date:\n",
    "        dateList.append(Time(i,format='jd'))\n",
    "                        \n",
    "    theObject = Horizons(id=objectName, location = 399,epochs=dateList)\n",
    "    vecObj = theObject.vectors()['lighttime']\n",
    "    \n",
    "    kboTime=date-vecObj\n",
    "    \n",
    "    \n",
    "    newData = oldData\n",
    "    newData['Dates'] = kboTime\n",
    "    \n",
    "    newData=newData.rename(columns = {'Dates':'datetime_jd'})\n",
    "    \n",
    "    outFile = objectName+'Data_KBOTime.csv'\n",
    "   \n",
    "    newData.to_csv(outFile)\n",
    "    \n",
    "    endtime = time.time()\n",
    "    \n",
    "    runLength = endtime-starttime\n",
    "    print(\"Runtime was: \"+str(runLength)+\" seconds\" )\n",
    "    "
   ]
  },
  {
   "cell_type": "code",
   "execution_count": 3,
   "metadata": {},
   "outputs": [
    {
     "name": "stdout",
     "output_type": "stream",
     "text": [
      "Runtime was: 174.04425835609436 seconds\n"
     ]
    }
   ],
   "source": [
    "makeHorFile('Haumea')"
   ]
  },
  {
   "cell_type": "code",
   "execution_count": null,
   "metadata": {},
   "outputs": [],
   "source": []
  }
 ],
 "metadata": {
  "kernelspec": {
   "display_name": "Python 3",
   "language": "python",
   "name": "python3"
  },
  "language_info": {
   "codemirror_mode": {
    "name": "ipython",
    "version": 3
   },
   "file_extension": ".py",
   "mimetype": "text/x-python",
   "name": "python",
   "nbconvert_exporter": "python",
   "pygments_lexer": "ipython3",
   "version": "3.7.4"
  }
 },
 "nbformat": 4,
 "nbformat_minor": 2
}
