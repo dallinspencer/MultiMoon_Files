{
 "cells": [
  {
   "cell_type": "code",
   "execution_count": 38,
   "metadata": {},
   "outputs": [],
   "source": [
    "import numpy as np\n",
    "from astropy import units as u\n",
    "import pandas as pd\n",
    "\n",
    "'''\n",
    "    NAME:\n",
    "         convert_ecl_rel_pos_to_geo_rel_ast\n",
    "         \n",
    "    PURPOSE:\n",
    "         To determine the deltaLat and deltaLong of a moon from its primary KBO.\n",
    "         \n",
    "    CALLING SEQUENCE:\n",
    "          deltaLong,deltaLat = convert_ecl_rel_pos_to_geo_rel_ast(ecl_rel_pos, obs_obj_rel_pos)\n",
    "   \n",
    "    INPUTS\n",
    "          ecl_rel_pos - The J2000 ecliptic relative position of the KBO in Cartesian coordinates\n",
    "          obs_obj_rel_pos - The J2000 ecliptic relative position of the Moon in Cartesian coordinates\n",
    "   \n",
    "    OUTPUTS:\n",
    "          deltaLong - The difference in Longitude of the moon vs. it's primary KBO\n",
    "          deltaLat - The difference in Latitude of the moon vs. it's primary KBO\n",
    "'''\n",
    "def convert_ecl_rel_pos_to_geo_rel_ast(ecl_rel_pos, obj_rel_pos, rel_moon):\n",
    "    \n",
    "    #Get the Cartesian positions of the Observer\n",
    "    x1,y1,z1 = ecl_rel_pos[0],ecl_rel_pos[1],ecl_rel_pos[2]\n",
    "    #Get the distance from the origin (Heliocenter) of the observer\n",
    "    R1= np.sqrt(x1**2+y1**2+z1**2)\n",
    "    \n",
    "\n",
    "    #Get the Heliocentric Cartesian positions of the KBO\n",
    "    x2,y2,z2 = obj_rel_pos[0],obj_rel_pos[1],obj_rel_pos[2]\n",
    "    \n",
    "    #Observer centric coordinates on KBO\n",
    "    x2,y2,z2 = x2-x1,y2-y1,z2-z1\n",
    "    \n",
    "    #Get the distance from the origin (Now observer-center) of the KBO\n",
    "    R2= np.sqrt(x2**2+y2**2+z2**2)\n",
    "    \n",
    "    x3,y3,z3 = rel_moon[0],rel_moon[1],rel_moon[2]\n",
    "    moonX = x3+x2\n",
    "    moonY = y3+y2\n",
    "    moonZ = z3+z2\n",
    "    R3 = np.sqrt((x3+x2)**2+(y3+y2)**2+(z3+z2)**2)\n",
    "    \n",
    "    \n",
    "    #Now calculate the latitude and longitude from the coordinates given\n",
    "    longitude1 = np.arcsin(z1/R1*u.degree)\n",
    "    latitude1 = np.arccos(x1/R1/np.cos(longitude1*u.degree)*u.degree)\n",
    "    \n",
    "    #Calculate the latitude and longitude from the coordinates\n",
    "    longitude2 = np.arcsin(z2/R2*u.degree)\n",
    "    latitude2 = np.arccos(x2/R2/np.cos(longitude2*u.degree)*u.degree)\n",
    "    \n",
    "     #Calculate the latitude and longitude from the coordinates\n",
    "    longitude3 = np.arcsin(moonZ/R3*u.degree)\n",
    "    latitude3 = np.arccos(moonX/R3/np.cos(longitude3*u.degree)*u.degree)\n",
    "    \n",
    "    #Calculate the deltaLat and deltaLong\n",
    "    deltaLat = latitude3-latitude2\n",
    "    deltaLong = (longitude3-longitude2)*np.cos(latitude2)    \n",
    "\n",
    "    return deltaLong, deltaLat\n"
   ]
  },
  {
   "cell_type": "code",
   "execution_count": 48,
   "metadata": {},
   "outputs": [
    {
     "name": "stdout",
     "output_type": "stream",
     "text": [
      "      range      \n",
      "        AU       \n",
      "-----------------\n",
      "2.357202192070571\n",
      "2.357245556045786\n",
      "2.357335163886907\n",
      "2.357356858429429\n",
      "2.357378532178476\n"
     ]
    },
    {
     "ename": "KeyError",
     "evalue": "'EclLat'",
     "output_type": "error",
     "traceback": [
      "\u001b[1;31m---------------------------------------------------------------------------\u001b[0m",
      "\u001b[1;31mKeyError\u001b[0m                                  Traceback (most recent call last)",
      "\u001b[1;32m<ipython-input-48-f5a1bea63f39>\u001b[0m in \u001b[0;36m<module>\u001b[1;34m\u001b[0m\n\u001b[0;32m     20\u001b[0m \u001b[0mprint\u001b[0m\u001b[1;33m(\u001b[0m\u001b[0mL2\u001b[0m\u001b[1;33m.\u001b[0m\u001b[0mvectors\u001b[0m\u001b[1;33m(\u001b[0m\u001b[1;33m)\u001b[0m\u001b[1;33m[\u001b[0m\u001b[1;34m'range'\u001b[0m\u001b[1;33m]\u001b[0m\u001b[1;33m)\u001b[0m\u001b[1;33m\u001b[0m\u001b[1;33m\u001b[0m\u001b[0m\n\u001b[0;32m     21\u001b[0m \u001b[1;33m\u001b[0m\u001b[0m\n\u001b[1;32m---> 22\u001b[1;33m \u001b[0mEclLatL2\u001b[0m \u001b[1;33m=\u001b[0m \u001b[0mL2\u001b[0m\u001b[1;33m.\u001b[0m\u001b[0mvectors\u001b[0m\u001b[1;33m(\u001b[0m\u001b[1;33m)\u001b[0m\u001b[1;33m[\u001b[0m\u001b[1;34m'EclLat'\u001b[0m\u001b[1;33m]\u001b[0m\u001b[1;33m\u001b[0m\u001b[1;33m\u001b[0m\u001b[0m\n\u001b[0m\u001b[0;32m     23\u001b[0m \u001b[0mEclLon2\u001b[0m \u001b[1;33m=\u001b[0m \u001b[0mL2\u001b[0m\u001b[1;33m.\u001b[0m\u001b[0mvectors\u001b[0m\u001b[1;33m(\u001b[0m\u001b[1;33m)\u001b[0m\u001b[1;33m[\u001b[0m\u001b[1;34m'EclLon'\u001b[0m\u001b[1;33m]\u001b[0m\u001b[1;33m\u001b[0m\u001b[1;33m\u001b[0m\u001b[0m\n\u001b[0;32m     24\u001b[0m \u001b[0mprint\u001b[0m\u001b[1;33m(\u001b[0m\u001b[0mEclLatL2\u001b[0m\u001b[1;33m,\u001b[0m\u001b[0mEclLon2\u001b[0m\u001b[1;33m)\u001b[0m\u001b[1;33m\u001b[0m\u001b[1;33m\u001b[0m\u001b[0m\n",
      "\u001b[1;32m~\\Anaconda3\\lib\\site-packages\\astropy\\table\\table.py\u001b[0m in \u001b[0;36m__getitem__\u001b[1;34m(self, item)\u001b[0m\n\u001b[0;32m   1344\u001b[0m     \u001b[1;33m@\u001b[0m\u001b[0mformat_doc\u001b[0m\u001b[1;33m(\u001b[0m\u001b[0m_pprint_docs\u001b[0m\u001b[1;33m)\u001b[0m\u001b[1;33m\u001b[0m\u001b[1;33m\u001b[0m\u001b[0m\n\u001b[0;32m   1345\u001b[0m     def pprint_all(self, max_lines=-1, max_width=-1, show_name=True,\n\u001b[1;32m-> 1346\u001b[1;33m                show_unit=None, show_dtype=False, align=None):\n\u001b[0m\u001b[0;32m   1347\u001b[0m         \"\"\"Print a formatted string representation of the entire table.\n\u001b[0;32m   1348\u001b[0m \u001b[1;33m\u001b[0m\u001b[0m\n",
      "\u001b[1;32m~\\Anaconda3\\lib\\site-packages\\astropy\\table\\table.py\u001b[0m in \u001b[0;36m__getitem__\u001b[1;34m(self, item)\u001b[0m\n\u001b[0;32m    188\u001b[0m     \u001b[1;32mfor\u001b[0m \u001b[0mrow\u001b[0m \u001b[1;32min\u001b[0m \u001b[0mrows\u001b[0m\u001b[1;33m:\u001b[0m\u001b[1;33m\u001b[0m\u001b[1;33m\u001b[0m\u001b[0m\n\u001b[0;32m    189\u001b[0m         \u001b[1;32mif\u001b[0m \u001b[1;32mnot\u001b[0m \u001b[0misinstance\u001b[0m\u001b[1;33m(\u001b[0m\u001b[0mrow\u001b[0m\u001b[1;33m,\u001b[0m \u001b[0mdict\u001b[0m\u001b[1;33m)\u001b[0m\u001b[1;33m:\u001b[0m\u001b[1;33m\u001b[0m\u001b[1;33m\u001b[0m\u001b[0m\n\u001b[1;32m--> 190\u001b[1;33m             \u001b[1;32mreturn\u001b[0m \u001b[1;32mNone\u001b[0m\u001b[1;33m\u001b[0m\u001b[1;33m\u001b[0m\u001b[0m\n\u001b[0m\u001b[0;32m    191\u001b[0m         \u001b[0mnames\u001b[0m\u001b[1;33m.\u001b[0m\u001b[0mupdate\u001b[0m\u001b[1;33m(\u001b[0m\u001b[0mrow\u001b[0m\u001b[1;33m)\u001b[0m\u001b[1;33m\u001b[0m\u001b[1;33m\u001b[0m\u001b[0m\n\u001b[0;32m    192\u001b[0m     \u001b[1;32mreturn\u001b[0m \u001b[0mlist\u001b[0m\u001b[1;33m(\u001b[0m\u001b[0mnames\u001b[0m\u001b[1;33m)\u001b[0m\u001b[1;33m\u001b[0m\u001b[1;33m\u001b[0m\u001b[0m\n",
      "\u001b[1;31mKeyError\u001b[0m: 'EclLat'"
     ]
    }
   ],
   "source": [
    "from astroquery.jplhorizons import Horizons\n",
    "from astropy.time import Time\n",
    "\n",
    "df = pd.read_csv('NewMakeMake_LatLon.csv')   \n",
    "x1 = df['X1']\n",
    "x2 = df['X2']\n",
    "y1 = df['Y1']\n",
    "y2 = df['Y2']\n",
    "z1 = df['Z1']\n",
    "z2 = df['Z2']\n",
    "\n",
    "dates = df['Primary-Centric Time']\n",
    "dateList = []\n",
    "for i in dates:\n",
    "    jd = Time(i,format='jd')\n",
    "    dateList.append(jd)\n",
    "\n",
    "\n",
    "L2 = Horizons(id='258',location=None,epochs=dateList)\n",
    "print(L2.vectors()['range'])\n",
    "\n",
    "EclLatL2 = L2.vectors()['EclLat']\n",
    "EclLon2 = L2.vectors()['EclLon']\n",
    "print(EclLatL2,EclLon2)\n",
    "\n",
    "convert_ecl_rel_pos_to_geo_rel_ast([x1,y1,z1],[x2,y2,z2],[5,5,5])"
   ]
  },
  {
   "cell_type": "code",
   "execution_count": null,
   "metadata": {},
   "outputs": [],
   "source": []
  }
 ],
 "metadata": {
  "kernelspec": {
   "display_name": "Python 3",
   "language": "python",
   "name": "python3"
  },
  "language_info": {
   "codemirror_mode": {
    "name": "ipython",
    "version": 3
   },
   "file_extension": ".py",
   "mimetype": "text/x-python",
   "name": "python",
   "nbconvert_exporter": "python",
   "pygments_lexer": "ipython3",
   "version": "3.7.4"
  }
 },
 "nbformat": 4,
 "nbformat_minor": 2
}
