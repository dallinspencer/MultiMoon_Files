{
 "cells": [
  {
   "cell_type": "code",
   "execution_count": 5,
   "metadata": {},
   "outputs": [],
   "source": [
    "import numpy as np\n",
    "from astropy import units as u\n",
    "\n",
    "def convert_ecl_rel_pos_to_geo_rel_ast(ecl_rel_pos, obs_obj_rel_pos):\n",
    "    \n",
    "    x1,y1,z1 = ecl_rel_pos[0],ecl_rel_pos[1],ecl_rel_pos[2]\n",
    "    R = np.sqrt(x1^2+y1^2+z1^2)\n",
    "    \n",
    "    longitude1 = np.arcsin(z1/R*u.degree)\n",
    "    latitude1 = np.arccos(x1/R/np.cos(longitude1*u.degree)*u.degree)\n",
    "    \n",
    "    x2,y2,z2 = obs_obj_rel_pos[0],obs_obj_rel_pos[1],obs_obj_rel_pos[2]\n",
    "    \n",
    "    longitude2 = np.arcsin(z2/R*u.degree)\n",
    "    latitude2 = np.arccos(x2/R/np.cos(longitude2*u.degree)*u.degree)\n",
    "    \n",
    "    deltaLat = latitude2-latitude1\n",
    "    deltaLong = (longitude2-longitude1)*np.cos(latitude1)    \n",
    "\n",
    "    return deltaLong, deltaLat\n"
   ]
  },
  {
   "cell_type": "code",
   "execution_count": null,
   "metadata": {},
   "outputs": [],
   "source": []
  }
 ],
 "metadata": {
  "kernelspec": {
   "display_name": "Python 3",
   "language": "python",
   "name": "python3"
  },
  "language_info": {
   "codemirror_mode": {
    "name": "ipython",
    "version": 3
   },
   "file_extension": ".py",
   "mimetype": "text/x-python",
   "name": "python",
   "nbconvert_exporter": "python",
   "pygments_lexer": "ipython3",
   "version": "3.7.4"
  }
 },
 "nbformat": 4,
 "nbformat_minor": 2
}
