{
 "cells": [
  {
   "cell_type": "code",
   "execution_count": 99,
   "metadata": {},
   "outputs": [],
   "source": [
    "import numpy as np\n",
    "import pandas as pd\n",
    "from astroquery.jplhorizons import Horizons\n",
    "from astropy.time import Time\n",
    "from astropy import units as u\n",
    "from astropy.coordinates import SkyCoord\n",
    "import time\n",
    "from astropy.coordinates import GeocentricMeanEcliptic\n",
    "from astropy.coordinates import HeliocentricMeanEcliptic\n",
    "\n",
    "\n",
    "def convert_to_primary_centric(paramsDF,objectName):\n",
    "    columnList = list(paramsDF)\n",
    "    \n",
    "    #Current column names are just descriptive, not representative of final product column names\n",
    "    updatedDF = pd.DataFrame(columns = ['Primary-Centric Time','Delta-Lat','Delta-Long','Direct_Sigma-lat','Direct_Sigma-lon','Roundabout_Sigma-lat','Roundabout_Sigma-lon','Diff_lat','Diff_lon'])\n",
    "    \n",
    "    date = paramsDF['Dates']\n",
    "    dateList = []\n",
    "    for i in date:\n",
    "        jd = Time(i,format='jd')\n",
    "        dateList.append(jd)\n",
    "        \n",
    "    primary = Horizons(id=objectName,location=None,epochs=dateList)\n",
    "    \n",
    "    updatedDF['Primary-Centric Time'] = paramsDF['Dates']-primary.vectors()['lighttime']\n",
    "    \n",
    "    #First, put the values in the dataframe into numpy arrays. Currently using the Benecchi Data for Pa'ha\n",
    "    RA = np.array(paramsDF['Change_RA_B_arcsec'])\n",
    "    DEC = np.array(paramsDF['Change_Dec_B_arcsec'])\n",
    "    \n",
    "    sigmaRA = np.array(paramsDF['Sigma_RA_B_arcsec'])\n",
    "    sigmaDEC = np.array(paramsDF['Sigma_Dec_B_arcsec'])\n",
    "    \n",
    "    #The direct method will just add the RA and DEC values to their error bars before converting to lat/long\n",
    "    #The roundabout method will wait until both the RA/DEC and error values are converted, and then add them together\n",
    "    bigRA = RA+sigmaRA\n",
    "    bigDEC = DEC+sigmaDEC\n",
    "    \n",
    "    #Essentially we define where the object is in our RA/DEC coordinate system. ICRS is the system our coordinates are in.\n",
    "    coordinates_icrs = SkyCoord(ra=RA*u.degree, dec=DEC*u.degree, frame='icrs')\n",
    "    big_icrs = SkyCoord(ra=bigRA*u.degree, dec=bigDEC*u.degree, frame='icrs')\n",
    "    err_icrs = SkyCoord(ra=sigmaRA*u.degree, dec=sigmaDEC*u.degree, frame='icrs')\n",
    "    \n",
    "    #This transformation takes the defined coordinate system, and converts it to the GeocentricMeanEcliptic coordinate system.\n",
    "    coordJ2000 = coordinates_icrs.transform_to(GeocentricMeanEcliptic(equinox='J2000'))\n",
    "    bigJ2000 = big_icrs.transform_to(GeocentricMeanEcliptic(equinox='J2000'))\n",
    "    sigmaJ2000 = err_icrs.transform_to(GeocentricMeanEcliptic(equinox='J2000'))\n",
    "    \n",
    "    \n",
    "    updatedDF['Delta-Lat'] = coordJ2000.lat.degree\n",
    "    updatedDF['Delta-Long'] = coordJ2000.lon.degree\n",
    "    updatedDF['Direct_Sigma-lat'] = bigJ2000.lat.degree\n",
    "    updatedDF['Direct_Sigma-lon'] = bigJ2000.lon.degree\n",
    "    \n",
    "    #At the end of the roundabout method, we add the error in lat/long to the coordinate change in lat/long\n",
    "    updatedDF['Roundabout_Sigma-lat'] = sigmaJ2000.lat.degree+coordJ2000.lat.degree\n",
    "    updatedDF['Roundabout_Sigma-lon'] = sigmaJ2000.lon.degree+coordJ2000.lon.degree\n",
    "    \n",
    "    #I subtracted the direct method from the roundabout method to see what the difference between them is.\n",
    "    #It is consistent for every value.\n",
    "    updatedDF['Diff_lat'] = updatedDF['Direct_Sigma-lat']-updatedDF['Roundabout_Sigma-lat']\n",
    "    updatedDF['Diff_lon'] = updatedDF['Direct_Sigma-lon']-updatedDF['Roundabout_Sigma-lon']\n",
    "    \n",
    "    print(updatedDF)\n",
    "    updatedDF.to_csv('BenecchiLatLon.csv',sep='\\t')\n"
   ]
  },
  {
   "cell_type": "code",
   "execution_count": 100,
   "metadata": {
    "scrolled": true
   },
   "outputs": [
    {
     "name": "stdout",
     "output_type": "stream",
     "text": [
      "   Primary-Centric Time  Delta-Lat  Delta-Long  Direct_Sigma-lat  \\\n",
      "0          2.452252e+06   0.349017    0.152348          0.353224   \n",
      "1          2.452253e+06   0.328768    0.183465          0.331757   \n",
      "2          2.452820e+06   0.060729    0.321235          0.060830   \n",
      "3          2.452830e+06  -0.189818    0.164975         -0.189295   \n",
      "4          2.452846e+06   0.035530  359.842571          0.035248   \n",
      "5          2.452875e+06  -0.084143    0.305407         -0.083455   \n",
      "6          2.453152e+06   0.192172  359.926289          0.193166   \n",
      "7          2.453595e+06  -0.240965  359.867344         -0.240271   \n",
      "8          2.453923e+06   0.145167    0.343454          0.146155   \n",
      "\n",
      "   Direct_Sigma-lon  Roundabout_Sigma-lat  Roundabout_Sigma-lon  Diff_lat  \\\n",
      "0          0.163765              0.353218              0.162720  0.000006   \n",
      "1          0.197187              0.331751              0.196143  0.000006   \n",
      "2          0.322259              0.060824            360.321215  0.000006   \n",
      "3          0.165529             -0.189301            360.164484  0.000006   \n",
      "4        359.843974              0.035242            359.842930  0.000006   \n",
      "5          0.307340             -0.083461              0.306295  0.000006   \n",
      "6        359.927265              0.193160            719.926220  0.000006   \n",
      "7        359.871024             -0.240277            359.869980  0.000006   \n",
      "8          0.345953              0.146149              0.344909  0.000006   \n",
      "\n",
      "     Diff_lon  \n",
      "0    0.001045  \n",
      "1    0.001045  \n",
      "2 -359.998955  \n",
      "3 -359.998955  \n",
      "4    0.001045  \n",
      "5    0.001045  \n",
      "6 -359.998955  \n",
      "7    0.001045  \n",
      "8    0.001045  \n"
     ]
    }
   ],
   "source": [
    "paramsDF = pd.read_csv('BennecchiData.csv')\n",
    "\n",
    "convert_to_primary_centric(paramsDF,'Lempo')\n"
   ]
  },
  {
   "cell_type": "code",
   "execution_count": null,
   "metadata": {},
   "outputs": [],
   "source": []
  }
 ],
 "metadata": {
  "kernelspec": {
   "display_name": "Python 3",
   "language": "python",
   "name": "python3"
  },
  "language_info": {
   "codemirror_mode": {
    "name": "ipython",
    "version": 3
   },
   "file_extension": ".py",
   "mimetype": "text/x-python",
   "name": "python",
   "nbconvert_exporter": "python",
   "pygments_lexer": "ipython3",
   "version": "3.7.4"
  }
 },
 "nbformat": 4,
 "nbformat_minor": 2
}
