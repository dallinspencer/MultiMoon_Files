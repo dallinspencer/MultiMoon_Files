{
 "cells": [
  {
   "cell_type": "code",
   "execution_count": 5,
   "metadata": {},
   "outputs": [],
   "source": [
    "import numpy as np\n",
    "from astropy import units as u\n",
    "\n",
    "'''\n",
    "    NAME:\n",
    "         convert_ecl_rel_pos_to_geo_rel_ast\n",
    "         \n",
    "    PURPOSE:\n",
    "         To determine the deltaLat and deltaLong of a moon from its primary KBO.\n",
    "         \n",
    "    CALLING SEQUENCE:\n",
    "          deltaLong,deltaLat = convert_ecl_rel_pos_to_geo_rel_ast(ecl_rel_pos, obs_obj_rel_pos)\n",
    "   \n",
    "    INPUTS\n",
    "          ecl_rel_pos - The J2000 ecliptic relative position of the KBO in Cartesian coordinates\n",
    "          obs_obj_rel_pos - The J2000 ecliptic relative position of the Moon in Cartesian coordinates\n",
    "   \n",
    "    OUTPUTS:\n",
    "          deltaLong - The difference in Longitude of the moon vs. it's primary KBO\n",
    "          deltaLAt - The difference in Latitude of the moon vs. it's primary KBO\n",
    "'''\n",
    "def convert_ecl_rel_pos_to_geo_rel_ast(ecl_rel_pos, obs_obj_rel_pos):\n",
    "    \n",
    "    #Get the Cartesian positions of the primary\n",
    "    x1,y1,z1 = ecl_rel_pos[0],ecl_rel_pos[1],ecl_rel_pos[2]\n",
    "    #Get the distance from the origin (Heliocenter) of the object\n",
    "    R = np.sqrt(x1^2+y1^2+z1^2)\n",
    "    \n",
    "    #Now calculate the latitude and longtidue from the coordinates given\n",
    "    longitude1 = np.arcsin(z1/R*u.degree)\n",
    "    latitude1 = np.arccos(x1/R/np.cos(longitude1*u.degree)*u.degree)\n",
    "    \n",
    "    #Get the Cartesian positions of the moon\n",
    "    x2,y2,z2 = obs_obj_rel_pos[0],obs_obj_rel_pos[1],obs_obj_rel_pos[2]\n",
    "    \n",
    "    #Calculate the latitude and longitude from the coordinates\n",
    "    longitude2 = np.arcsin(z2/R*u.degree)\n",
    "    latitude2 = np.arccos(x2/R/np.cos(longitude2*u.degree)*u.degree)\n",
    "    \n",
    "    #Calculate the deltaLat and deltaLong\n",
    "    deltaLat = latitude2-latitude1\n",
    "    deltaLong = (longitude2-longitude1)*np.cos(latitude1)    \n",
    "\n",
    "    return deltaLong, deltaLat\n"
   ]
  },
  {
   "cell_type": "code",
   "execution_count": null,
   "metadata": {},
   "outputs": [],
   "source": []
  }
 ],
 "metadata": {
  "kernelspec": {
   "display_name": "Python 3",
   "language": "python",
   "name": "python3"
  },
  "language_info": {
   "codemirror_mode": {
    "name": "ipython",
    "version": 3
   },
   "file_extension": ".py",
   "mimetype": "text/x-python",
   "name": "python",
   "nbconvert_exporter": "python",
   "pygments_lexer": "ipython3",
   "version": "3.7.4"
  }
 },
 "nbformat": 4,
 "nbformat_minor": 2
}
