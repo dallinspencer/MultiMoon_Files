{
 "cells": [
  {
   "cell_type": "code",
   "execution_count": 71,
   "metadata": {},
   "outputs": [],
   "source": [
    "import numpy as np\n",
    "import pandas as pd\n",
    "from astroquery.jplhorizons import Horizons\n",
    "from astropy.time import Time\n",
    "from astropy import units as u\n",
    "from astropy.coordinates import SkyCoord\n",
    "import matplotlib.pyplot as plt\n",
    "import time\n",
    "from astropy.coordinates import GeocentricMeanEcliptic\n",
    "from astropy.coordinates import HeliocentricMeanEcliptic\n",
    "from astropy.coordinates import HeliocentricTrueEcliptic\n",
    "from astropy.coordinates import GeocentricTrueEcliptic\n",
    "\n",
    "#This function takes a parameter Dataframe in RA/DEC, and converts it to Latitude and Longitude, while also converting the dates to Primary-Centric Julian dates\n",
    "def convert_to_primary_centric(paramsDF,objectName):\n",
    "    columnList = list(paramsDF)\n",
    "    \n",
    "    #Current column names are just descriptive, not representative of final product column names\n",
    "    updatedDF = pd.DataFrame(columns = ['Primary-Centric Time','Delta_lat','Delta_lon'])\n",
    "    \n",
    "    #Convert the dates into a Julian date format\n",
    "    date = paramsDF['Dates']\n",
    "    dateList = []\n",
    "    for i in date:\n",
    "        jd = Time(i,format='jd')\n",
    "        dateList.append(jd)\n",
    "        \n",
    "    #Get the Horizons data for the object at the times it was observed\n",
    "    primary = Horizons(id=objectName,location=None,epochs=dateList)\n",
    "    \n",
    "    updatedDF['Primary-Centric Time'] = paramsDF['Dates']-primary.vectors()['lighttime']\n",
    "    \n",
    "    \n",
    "    #First, put the values in the dataframe into numpy arrays. Currently using the Grundy data for MakeMake\n",
    "    deltaRA = np.array(paramsDF['Delta-RA'])\n",
    "    deltaDEC = np.array(paramsDF['Delta-DEC'])\n",
    "    RA_primary = np.array(paramsDF['RA-Primary'])\n",
    "    DEC_primary = np.array(paramsDF['DEC-Primary'])\n",
    "    RA_obj = RA_primary+deltaRA/3600\n",
    "    DEC_obj = DEC_primary+deltaDEC/3600\n",
    "    \n",
    "    #Essentially we define where the object is in our RA/DEC coordinate system. ICRS is the system our coordinates are in.\n",
    "    moonC = SkyCoord(ra=RA_obj*u.degree, dec=DEC_obj*u.degree, frame='icrs')\n",
    "    primC = SkyCoord(ra=RA_primary*u.degree, dec=DEC_primary*u.degree, frame='icrs')\n",
    "\n",
    "    #This transformation takes the defined coordinate system, and converts it to the GeocentricMeanEcliptic coordinate system.\n",
    "    moonEcl = moonC.transform_to(GeocentricMeanEcliptic(equinox='J2000'))\n",
    "    primEcl = primC.transform_to(GeocentricMeanEcliptic(equinox='J2000'))\n",
    "    \n",
    "    #These are the positions of the moon relative to the primary\n",
    "    updatedDF['Latitude_moon'] = moonEcl.lat.degree\n",
    "    updatedDF['Longitude_moon'] = moonEcl.lon.degree\n",
    "    \n",
    "    #These are the positions of the primary\n",
    "    updatedDF['Latitude_prim'] = primEcl.lat.degree\n",
    "    updatedDF['Longitude_prim'] = primEcl.lon.degree\n",
    "    \n",
    "    #These are the positions of the moon relative to the primary using Grundy's Delta-lat and Delta-lon\n",
    "    updatedDF['OgLat_moon']=np.array(updatedDF['Latitude_prim'])+np.array(paramsDF['Delta_lat'])/3600\n",
    "    updatedDF['OgLon_moon']= np.array(updatedDF['Longitude_prim'])+np.array(paramsDF['Delta_lon'])/3600\n",
    "    \n",
    "    #Calculated Delta-lat and Delta lon from the RA and DEC's\n",
    "    updatedDF['Delta_lat'] = (updatedDF['Latitude_prim']-updatedDF['Latitude_moon'])*3600\n",
    "    updatedDF['Delta_lon'] = (updatedDF['Longitude_prim']-updatedDF['Longitude_moon'])*3600\n",
    "    \n",
    "    #We are just going to plot one iteration of the data\n",
    "    lats = [updatedDF['Latitude_moon'][1],updatedDF['Latitude_prim'][1],updatedDF['OgLat_moon'][1]]\n",
    "    longs = [updatedDF['Longitude_moon'][1],updatedDF['Longitude_prim'][1],updatedDF['OgLon_moon'][1]]\n",
    "    lats = [i*3600 for i in lats]\n",
    "    longs = [i*3600 for i in longs]\n",
    " \n",
    "    #Plot the primary, and the moon's position based on calulcation. Also plot the moon based on the origianl data's delta-lat and delta-lon\n",
    "    plt.scatter(lats,longs)\n",
    "    plt.axes().set_aspect('equal')\n",
    "    plt.show()\n",
    "\n",
    "    fileName = 'New'+objectName+'_LatLon.csv'\n",
    "    updatedDF.to_csv(fileName,sep='\\t')\n"
   ]
  },
  {
   "cell_type": "code",
   "execution_count": 72,
   "metadata": {
    "scrolled": false
   },
   "outputs": [
    {
     "name": "stderr",
     "output_type": "stream",
     "text": [
      "C:\\Users\\annas\\Anaconda3\\lib\\site-packages\\ipykernel_launcher.py:73: MatplotlibDeprecationWarning: Adding an axes using the same arguments as a previous axes currently reuses the earlier instance.  In a future version, a new instance will always be created and returned.  Meanwhile, this warning can be suppressed, and the future behavior ensured, by passing a unique label to each axes instance.\n"
     ]
    },
    {
     "data": {
      "image/png": "[encoded data removed]",
      "text/plain": [
       "<Figure size 432x288 with 1 Axes>"
      ]
     },
     "metadata": {
      "needs_background": "light"
     },
     "output_type": "display_data"
    }
   ],
   "source": [
    "paramsDF = pd.read_csv('GrundyData1.csv')\n",
    "\n",
    "convert_to_primary_centric(paramsDF,'MakeMake')\n"
   ]
  },
  {
   "cell_type": "code",
   "execution_count": 24,
   "metadata": {},
   "outputs": [
    {
     "name": "stdout",
     "output_type": "stream",
     "text": [
      "192.4135083333464\n",
      "26.369483333333335\n"
     ]
    }
   ],
   "source": [
    "def ratodeg(hours, minutes, seconds):\n",
    "\tdegrees = 0\n",
    "\tdegrees += hours*15.0\n",
    "\tdegrees += minutes*0.25\n",
    "\tdegrees += seconds*0.004166666667\n",
    "\treturn degrees\n",
    "\n",
    "def dectodeg(degree,minutes,seconds):\n",
    "\tdegrees = 0\n",
    "\tdegrees += degree\n",
    "\tdegrees += minutes/60\n",
    "\tdegrees += seconds/3600\n",
    "\treturn degrees\n",
    "\n",
    "print(ratodeg(12,49,39.242))\n",
    "print(dectodeg(26,22,10.14))"
   ]
  },
  {
   "cell_type": "code",
   "execution_count": null,
   "metadata": {},
   "outputs": [],
   "source": []
  }
 ],
 "metadata": {
  "kernelspec": {
   "display_name": "Python 3",
   "language": "python",
   "name": "python3"
  },
  "language_info": {
   "codemirror_mode": {
    "name": "ipython",
    "version": 3
   },
   "file_extension": ".py",
   "mimetype": "text/x-python",
   "name": "python",
   "nbconvert_exporter": "python",
   "pygments_lexer": "ipython3",
   "version": "3.7.4"
  }
 },
 "nbformat": 4,
 "nbformat_minor": 2
}
