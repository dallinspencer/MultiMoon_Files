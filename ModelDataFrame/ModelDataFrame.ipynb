{
 "cells": [
  {
   "cell_type": "code",
   "execution_count": 1,
   "metadata": {},
   "outputs": [],
   "source": [
    "import numpy as np\n",
    "import pandas as pd\n",
    "\n",
    "'''\n",
    "    NAME:\n",
    "         createModelDF\n",
    "         \n",
    "    PURPOSE:\n",
    "         To take a results dataframe and a single row of observed parameters, and create a model dataframe\n",
    "         for emcee to run calculations on.\n",
    "         \n",
    "    CALLING SEQUENCE:\n",
    "          modelDF = createModelDF(results, observedParams)\n",
    "   \n",
    "    INPUTS\n",
    "          results - A dataframe of the calculated results of different walkers in emcee.\n",
    "          observedParams - A vector of the actual data that was observed of the KBO and its moon.\n",
    "   \n",
    "    OUTPUTS:\n",
    "          modelDF = A dataframe consisting of all rows and columns of the results, with the observed\n",
    "          data being repeated for each row of results, and a final column of probability that will be\n",
    "          calculated by emcee.\n",
    "'''\n",
    "def createModelDF(results,observedParams):\n",
    "        \n",
    "        #Obtain the number of rows in results, will multiply observedPArams this many times\n",
    "        count_row = results.shape[0]\n",
    "        \n",
    "        #Multiply params\n",
    "        params = pd.concat([observedParams]*count_row, ignore_index=True)\n",
    "\n",
    "        #Create the modelDF\n",
    "        modelDF = pd.concat([results, params], axis=1, sort=False)\n",
    "        \n",
    "        #Are these the PDF's, and then the total likelihood is them added together?\n",
    "        #If so, should Likelihoods be passed in as a parameter in the function call, or do I calculate them here?\n",
    "        modelDF['Prior Likelihood'] = np.NaN\n",
    "        \n",
    "        return modelDF"
   ]
  },
  {
   "cell_type": "code",
   "execution_count": 2,
   "metadata": {},
   "outputs": [
    {
     "name": "stdout",
     "output_type": "stream",
     "text": [
      "   hello  bye  mass  j2r2  ecc  Prior Likelihood\n",
      "0      1    5     1   0.4    1               NaN\n",
      "1      2    4     1   0.4    1               NaN\n",
      "2      3    3     1   0.4    1               NaN\n",
      "3      4    2     1   0.4    1               NaN\n",
      "4      5    1     1   0.4    1               NaN\n"
     ]
    }
   ],
   "source": [
    "d = {'hello':[1,2,3,4,5],'bye':[5,4,3,2,1]}\n",
    "d1= {'mass':[1],'j2r2':[0.4],'ecc':[1]}\n",
    "results = pd.DataFrame(data=d)\n",
    "params = pd.DataFrame(data=d1)\n",
    "\n",
    "measuredData = pd.read_csv('BenecchiData_KBOtime.csv')\n",
    "\n",
    "yay = createModelDF(results,params)\n",
    "print(yay)\n",
    "\n",
    "\n"
   ]
  },
  {
   "cell_type": "code",
   "execution_count": null,
   "metadata": {},
   "outputs": [],
   "source": []
  }
 ],
 "metadata": {
  "kernelspec": {
   "display_name": "Python 3",
   "language": "python",
   "name": "python3"
  },
  "language_info": {
   "codemirror_mode": {
    "name": "ipython",
    "version": 3
   },
   "file_extension": ".py",
   "mimetype": "text/x-python",
   "name": "python",
   "nbconvert_exporter": "python",
   "pygments_lexer": "ipython3",
   "version": "3.7.4"
  }
 },
 "nbformat": 4,
 "nbformat_minor": 2
}
