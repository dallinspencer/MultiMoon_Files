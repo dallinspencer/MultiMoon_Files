{
 "cells": [
  {
   "cell_type": "code",
   "execution_count": 60,
   "metadata": {
    "scrolled": true
   },
   "outputs": [],
   "source": [
    "import pandas as pd\n",
    "import numpy as np\n",
    "import scipy as sp\n",
    "import math\n",
    "import sympy as sym\n",
    "\n",
    "paramsdf = pd.DataFrame({'mass':[], 'sma':[], 'ecc':[], 'aop':[], 'inc':[], 'lan':[], 'mea':[], 'j2r2':[], 'c22r2':[], 'spaop':[], 'spinc':[], 'splan':[]})\n",
    "paramsdf['mass'] = [2,4,6]\n",
    "paramsdf['sma'] = [3,4,5]\n",
    "paramsdf['ecc'] = [0.01,0.1,0.05]\n",
    "\n",
    "\n",
    "paramsDF = pd.DataFrame(columns = ['mass','sma','ecc','aop','inc','lan','mea','j2r2','c22r2','spaop','spinc','splan'],index=['sun','theKBO','obj1','obj2','obj3'])\n"
   ]
  },
  {
   "cell_type": "code",
   "execution_count": 73,
   "metadata": {},
   "outputs": [],
   "source": [
    "priorsdf = pd.DataFrame(columns = ['mass','sma','ecc','aop','inc','lan','mea','j2r2','c22r2','spaop','spinc','splan'],index=['dist. shape','uni-low','uni-up','log-uni-low','log-uni-up','norm-cen','norm-spread','log-norm-cen','log-norm-spread'])\n",
    "\n",
    "priorsdf['mass'] = [0,1,1,1,1,1,1,1,1]\n",
    "priorsdf['sma'] = [0,1,1,1,1,1,1,1,1]\n",
    "priorsdf['ecc'] = [2,1,1,1,1,1,1,1,1]\n",
    "priorsdf['aop'] = [0,1,1,1,1,1,1,1,1]\n",
    "priorsdf['inc'] = [0,1,1,1,1,1,1,1,1]\n",
    "priorsdf['lan'] = [1,1,1,1,300,1,1,1,1]\n",
    "priorsdf['mea'] = [0,1,1,1,1,1,1,1,1]\n",
    "priorsdf['j2r2'] = [0,1,1,1,1,1,1,1,1]\n",
    "priorsdf['c22r2'] = [3,1,1,1,1,1,1,70000,1]\n",
    "priorsdf['spaop'] = [0,1,1,1,1,1,1,1,1]\n",
    "priorsdf['spinc'] = [0,1,1,1,1,1,1,1,1]\n",
    "priorsdf['splan'] = [0,1,1,1,1,1,1,1,1]"
   ]
  },
  {
   "cell_type": "code",
   "execution_count": 74,
   "metadata": {},
   "outputs": [],
   "source": [
    "def makePriorProb(params):\n",
    "    columnList = list(params)\n",
    "    combinedPriorProbs = 0\n",
    "    x = sym.Symbol('x')\n",
    "    #This loop runs through every column in the priors dataframe, and evaluates the probability density\n",
    "    #function of the specified type.\n",
    "    for i in columnList: \n",
    "        \n",
    "        if params[i][0] == 0:\n",
    "            #Uniform Distribution Shape\n",
    "            PriorProb = 1/(params[i][1]+params[i][2])\n",
    "            \n",
    "        elif params[i][0] == 1:\n",
    "            #Log-Uniform Distribution Shape\n",
    "            PriorProb = 1/(params[i][3]+params[i][4])\n",
    "            \n",
    "        elif params[i][0] == 2:\n",
    "            # Normal Distribution Shape\n",
    "            PriorProb = 1/(params[i][5]*sym.sqrt(math.pi))*sym.exp(-1/2*((x-params[i][6])/params[i][5])**2)\n",
    "            \n",
    "        elif params[i][0] == 3:\n",
    "            #Log Normal Distribution Shape\n",
    "            PriorProb = 1/(params[i][7]*sym.sqrt(math.pi))*sym.exp(-1/2*((x-params[i][8])/params[i][7])**2)\n",
    "        else:\n",
    "            print('Invalid input.') \n",
    "            \n",
    "        #Here, add the Prior Probability Density function for this element to the total\n",
    "        combinedPriorProbs = combinedPriorProbs + sym.log(PriorProb,10)\n",
    "    return combinedPriorProbs"
   ]
  },
  {
   "cell_type": "code",
   "execution_count": 75,
   "metadata": {},
   "outputs": [
    {
     "name": "stdout",
     "output_type": "stream",
     "text": [
      "log(8.05985119353938e-6*exp(-0.5*(x/70000 - 1/70000)**2))/log(10) + log(0.564189583547756*exp(-0.5*(x - 1)**2))/log(10) - 11.9454348897884/log(10)\n"
     ]
    },
    {
     "data": {
      "image/png": "[encoded data removed]",
      "text/plain": [
       "<Figure size 432x288 with 1 Axes>"
      ]
     },
     "metadata": {
      "needs_background": "light"
     },
     "output_type": "display_data"
    },
    {
     "data": {
      "text/plain": [
       "<sympy.plotting.plot.Plot at 0x1e069cad648>"
      ]
     },
     "execution_count": 75,
     "metadata": {},
     "output_type": "execute_result"
    }
   ],
   "source": [
    "dist = makePriorProb(priorsdf)\n",
    "print(dist)\n",
    "\n",
    "from sympy.plotting import plot\n",
    "\n",
    "plot(dist,yscale='linear', show=True)"
   ]
  },
  {
   "cell_type": "code",
   "execution_count": null,
   "metadata": {},
   "outputs": [],
   "source": []
  }
 ],
 "metadata": {
  "kernelspec": {
   "display_name": "Python 3",
   "language": "python",
   "name": "python3"
  },
  "language_info": {
   "codemirror_mode": {
    "name": "ipython",
    "version": 3
   },
   "file_extension": ".py",
   "mimetype": "text/x-python",
   "name": "python",
   "nbconvert_exporter": "python",
   "pygments_lexer": "ipython3",
   "version": "3.7.4"
  }
 },
 "nbformat": 4,
 "nbformat_minor": 2
}
