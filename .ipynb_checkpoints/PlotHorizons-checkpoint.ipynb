{
 "cells": [
  {
   "cell_type": "code",
   "execution_count": null,
   "metadata": {},
   "outputs": [],
   "source": [
    "from astroquery.jplhorizons import Horizons\n",
    "import numpy as np\n",
    "import pandas as pd\n",
    "from astropy.time import Time\n",
    "import time\n",
    "import matplotlib.pyplot as plt\n",
    "\n",
    "starttime = time.time()\n",
    "\n",
    "dfLemFile = pd.read_csv('TC36geoxyzNEW.csv')\n",
    "dfHauFile = pd.read_csv('EL61geoxyzNEW.csv')\n",
    "\n",
    "dfLemHor = pd.read_csv('LempoDataxyz.csv')\n",
    "dfHauHor = pd.read_csv('HaumeaDataxyz.csv')\n",
    "\n",
    "xLemDiff = dfLemFile[' xearr']-dfLemHor['xdata']\n",
    "yLemDiff = dfLemFile[' yearr']-dfLemHor['ydata']\n",
    "zLemDiff = dfLemFile[' zearr']-dfLemHor['zdata']\n",
    "\n",
    "theDiff = pd.DataFrame({'xdiff':xLemDiff,'ydiff':yLemDiff,'zdiff':zLemDiff})\n",
    "\n",
    "theDiff.plot()\n",
    "\n",
    "endtime = time.time()\n",
    "tottime = str(endtime-starttime)\n",
    "\n",
    "print('Runtime:' + tottime +' seconds')"
   ]
  },
  {
   "cell_type": "code",
   "execution_count": null,
   "metadata": {},
   "outputs": [],
   "source": []
  }
 ],
 "metadata": {
  "kernelspec": {
   "display_name": "Python 3",
   "language": "python",
   "name": "python3"
  }
 },
 "nbformat": 4,
 "nbformat_minor": 2
}
