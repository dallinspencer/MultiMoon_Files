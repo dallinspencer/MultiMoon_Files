{
 "cells": [
  {
   "cell_type": "code",
   "execution_count": 4,
   "metadata": {
    "scrolled": true
   },
   "outputs": [],
   "source": [
    "import pandas as pd\n",
    "import numpy as np\n",
    "import scipy as sp\n",
    "import math\n",
    "import sympy as sym"
   ]
  },
  {
   "cell_type": "code",
   "execution_count": 5,
   "metadata": {
    "scrolled": true
   },
   "outputs": [
    {
     "name": "stdout",
     "output_type": "stream",
     "text": [
      "          name  mass  sma   ecc  aop  inc   lan  mea  j2r2  c22r2  spaop  \\\n",
      "theKBO  Haumea     2    3  0.01    2    3  0.01    2     3      2      3   \n",
      "obj1    Hi'aka     4    4  0.10    4    4  0.10    4     4      4      4   \n",
      "obj2    Namaka     6    5  1.00    6    5  1.00    6     5      6      5   \n",
      "\n",
      "        spinc  splan  \n",
      "theKBO   0.01      2  \n",
      "obj1     0.10      4  \n",
      "obj2     1.00      6                    mass  sma  ecc  aop  inc  lan  mea  j2r2  c22r2  spaop  \\\n",
      "dist. shape         0    0    2    0    0    1    0     0      3      0   \n",
      "uni-low             1    1    1    1    1    1    1     1      1      1   \n",
      "uni-up              2    2    3    2    2    2    2     2      2      6   \n",
      "log-uni-low         1    1    1    1    1    1    1     1      1      1   \n",
      "log-uni-up          2    2    2    2    2    2    2     2      2      2   \n",
      "norm-cen            1    1    1    1    1    1    1     1      1      1   \n",
      "norm-spread         1    1    1    1    1    1    1     1      1      1   \n",
      "log-norm-cen        1    1    1    1    1    1    1     1      1      1   \n",
      "log-norm-spread     1    1    1    1    1    1    1     1      1      1   \n",
      "\n",
      "                 spinc  splan  \n",
      "dist. shape          0      0  \n",
      "uni-low              1      1  \n",
      "uni-up               2      2  \n",
      "log-uni-low          1      1  \n",
      "log-uni-up           2      2  \n",
      "norm-cen             1      1  \n",
      "norm-spread          1      1  \n",
      "log-norm-cen         1      1  \n",
      "log-norm-spread      1      1  \n"
     ]
    }
   ],
   "source": [
    "priorsdf = pd.DataFrame(columns = ['mass','sma','ecc','aop','inc','lan','mea','j2r2','c22r2','spaop','spinc','splan'],index=['dist. shape','uni-low','uni-up','log-uni-low','log-uni-up','norm-cen','norm-spread','log-norm-cen','log-norm-spread'])\n",
    "paramsdf = pd.DataFrame(columns = ['name','mass','sma','ecc','aop','inc','lan','mea','j2r2','c22r2','spaop','spinc','splan'],index=['theKBO','obj1','obj2'])\n",
    "\n",
    "paramsdf['name'] = ['Haumea','Hi\\'aka','Namaka']\n",
    "paramsdf['mass'] = [2,4,6]\n",
    "paramsdf['sma'] = [3,4,5]\n",
    "paramsdf['ecc'] = [0.01,0.1,1]\n",
    "paramsdf['aop'] = [2,4,6]\n",
    "paramsdf['inc'] = [3,4,5]\n",
    "paramsdf['lan'] = [0.01,0.1,1]\n",
    "paramsdf['mea'] = [2,4,6]\n",
    "paramsdf['j2r2'] = [3,4,5]\n",
    "paramsdf['c22r2'] = [2,4,6]\n",
    "paramsdf['spaop'] = [3,4,5]\n",
    "paramsdf['spinc'] = [0.01,0.1,1]\n",
    "paramsdf['splan'] = [2,4,6]\n",
    "\n",
    "priorsdf['mass'] = [0,1,2,1,2,1,1,1,1]\n",
    "priorsdf['sma'] = [0,1,2,1,2,1,1,1,1]\n",
    "priorsdf['ecc'] = [2,1,3,1,2,1,1,1,1]\n",
    "priorsdf['aop'] = [0,1,2,1,2,1,1,1,1]\n",
    "priorsdf['inc'] = [0,1,2,1,2,1,1,1,1]\n",
    "priorsdf['lan'] = [1,1,2,1,2,1,1,1,1]\n",
    "priorsdf['mea'] = [0,1,2,1,2,1,1,1,1]\n",
    "priorsdf['j2r2'] = [0,1,2,1,2,1,1,1,1]\n",
    "priorsdf['c22r2'] = [3,1,2,1,2,1,1,1,1]\n",
    "priorsdf['spaop'] = [0,1,6,1,2,1,1,1,1]\n",
    "priorsdf['spinc'] = [0,1,2,1,2,1,1,1,1]\n",
    "priorsdf['splan'] = [0,1,2,1,2,1,1,1,1]\n",
    "\n",
    "print(paramsdf,priorsdf)"
   ]
  },
  {
   "cell_type": "code",
   "execution_count": 6,
   "metadata": {},
   "outputs": [],
   "source": [
    "def mm_priors(priors, params):\n",
    "    columnList = list(priors)\n",
    "    combinedPriorProbs = 0\n",
    "    x = sym.Symbol('x')\n",
    "    \n",
    "    probDist = pd.DataFrame(columns = ['mass','sma','ecc','aop','inc','lan','mea','j2r2','c22r2','spaop','spinc','splan'],index=['PDF'])\n",
    "   \n",
    "    #This loop runs through every column in the priors dataframe, and evaluates the probability density\n",
    "    #function of the specified type.\n",
    "    for i in columnList: \n",
    "        \n",
    "        if priors[i][0] == 0:\n",
    "            #Uniform Distribution Shape\n",
    "            if params[i][0] > priors[i][2] and par4ams[i][0] < priors[i][1]:\n",
    "                PriorProb = 1\n",
    "            else:\n",
    "                PriorProb = 0\n",
    "            \n",
    "        elif priors[i][0] == 1:\n",
    "            #Log-Uniform Distribution Shape\n",
    "            if params[i][0] > priors[i][2] and par4ams[i][0] < priors[i][1]:\n",
    "                PriorProb = 1\n",
    "            else:\n",
    "                PriorProb = 0\n",
    "            \n",
    "        elif priors[i][0] == 2:\n",
    "            # Normal Distribution Shape\n",
    "            PriorProb = 1/(priors[i][5]*np.sqrt(np.pi))*np.exp(-1/2*((params[i][0]-priors[i][6])/priors[i][5])**2)\n",
    "            \n",
    "        elif priors[i][0] == 3:\n",
    "            #Log Normal Distribution Shape\n",
    "            PriorProb = np.log10(1/(priors[i][7]*np.sqrt(np.pi))*np.exp(-1/2*((params[i][0]-priors[i][8])/priors[i][7])**2))\n",
    "        else:\n",
    "            print('Invalid input.') \n",
    "            \n",
    "        #Here, add the Prior Probability Density function for this element to the total\n",
    "        print(PriorProb)\n",
    "        combinedPriorProbs = combinedPriorProbs + PriorProb\n",
    "        probDist[i][0] = PriorProb\n",
    "        \n",
    "    print(probDist)\n",
    "    return combinedPriorProbs"
   ]
  },
  {
   "cell_type": "code",
   "execution_count": 8,
   "metadata": {},
   "outputs": [
    {
     "name": "stdout",
     "output_type": "stream",
     "text": [
      "1.0\n",
      "1.0\n",
      "0.3456201487657986\n",
      "1.0\n",
      "1.0\n",
      "0.0\n",
      "1.0\n",
      "1.0\n",
      "-0.4657221772986928\n",
      "0.2\n",
      "1.0\n",
      "1.0\n",
      "    mass sma      ecc aop inc lan mea j2r2     c22r2 spaop spinc splan\n",
      "PDF    1   1  0.34562   1   1   0   1    1 -0.465722   0.2     1     1\n",
      "8.079897971467105\n"
     ]
    },
    {
     "name": "stderr",
     "output_type": "stream",
     "text": [
      "C:\\Users\\annas\\Anaconda3\\lib\\site-packages\\ipykernel_launcher.py:5: RuntimeWarning: divide by zero encountered in log10\n",
      "  \"\"\"\n"
     ]
    },
    {
     "data": {
      "text/plain": [
       "-inf"
      ]
     },
     "execution_count": 8,
     "metadata": {},
     "output_type": "execute_result"
    }
   ],
   "source": [
    "from sympy import *\n",
    "\n",
    "dist = mm_priors(priorsdf, paramsdf)\n",
    "print(dist)\n",
    "\n",
    "np.log10(0)\n"
   ]
  },
  {
   "cell_type": "code",
   "execution_count": null,
   "metadata": {},
   "outputs": [],
   "source": []
  }
 ],
 "metadata": {
  "kernelspec": {
   "display_name": "Python 3",
   "language": "python",
   "name": "python3"
  },
  "language_info": {
   "codemirror_mode": {
    "name": "ipython",
    "version": 3
   },
   "file_extension": ".py",
   "mimetype": "text/x-python",
   "name": "python",
   "nbconvert_exporter": "python",
   "pygments_lexer": "ipython3",
   "version": "3.7.4"
  }
 },
 "nbformat": 4,
 "nbformat_minor": 2
}
